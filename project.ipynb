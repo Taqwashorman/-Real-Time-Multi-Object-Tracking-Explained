{
 "cells": [
  {
   "cell_type": "code",
   "execution_count": 1,
   "id": "c2f649d8",
   "metadata": {},
   "outputs": [
    {
     "name": "stdout",
     "output_type": "stream",
     "text": [
      "Creating new Ultralytics Settings v0.0.6 file  \n",
      "View Ultralytics Settings with 'yolo settings' or at 'C:\\Users\\Taqwa\\AppData\\Roaming\\Ultralytics\\settings.json'\n",
      "Update Settings with 'yolo settings key=value', i.e. 'yolo settings runs_dir=path/to/dir'. For help see https://docs.ultralytics.com/quickstart/#ultralytics-settings.\n",
      "Downloading https://github.com/ultralytics/assets/releases/download/v8.3.0/yolov8n.pt to 'yolov8n.pt'...\n"
     ]
    },
    {
     "name": "stderr",
     "output_type": "stream",
     "text": [
      "100%|██████████| 6.25M/6.25M [00:01<00:00, 5.32MB/s]\n"
     ]
    }
   ],
   "source": [
    "from ultralytics import YOLO  \n",
    "import cv2  \n",
    "\n",
    "# Load YOLOv8 model  \n",
    "model = YOLO(\"yolov8n.pt\")  \n"
   ]
  },
  {
   "cell_type": "code",
   "execution_count": 2,
   "id": "b5406f97",
   "metadata": {},
   "outputs": [],
   "source": [
    "from ultralytics import YOLO  \n",
    "import cv2  \n",
    "\n",
    "# Load YOLOv8 model  \n",
    "model = YOLO(\"yolov8n.pt\")  \n"
   ]
  },
  {
   "cell_type": "code",
   "execution_count": 3,
   "id": "004c83b9",
   "metadata": {},
   "outputs": [],
   "source": [
    "from deep_sort_realtime.deepsort_tracker import DeepSort  \n",
    "\n",
    "# Initialize DeepSORT tracker  \n",
    "tracker = DeepSort(max_age=30)  # Tracks objects for 30 frames  \n"
   ]
  },
  {
   "cell_type": "code",
   "execution_count": 9,
   "id": "1e9e0a72",
   "metadata": {},
   "outputs": [],
   "source": [
    "import cv2\n",
    "\n",
    "cap = cv2.VideoCapture(\"video.mp4\")\n",
    "\n",
    "# التأكد من أبعاد الفيديو\n",
    "width = int(cap.get(cv2.CAP_PROP_FRAME_WIDTH))\n",
    "height = int(cap.get(cv2.CAP_PROP_FRAME_HEIGHT))\n",
    "\n",
    "# إعداد حفظ الفيديو (XVID مع .avi)\n",
    "fourcc = cv2.VideoWriter_fourcc(*'XVID')\n",
    "out = cv2.VideoWriter('output.avi', fourcc, 30, (width, height))\n",
    "\n",
    "while cap.isOpened():\n",
    "    ret, frame = cap.read()\n",
    "    if not ret:\n",
    "        break\n",
    "\n",
    "    # هنا مكان كود الكشف والتتبع (ضع كود YOLO أو DeepSort هنا)\n",
    "\n",
    "    out.write(frame)  # حفظ الإطار\n",
    "\n",
    "    cv2.imshow(\"Tracking\", frame)\n",
    "    if cv2.waitKey(1) & 0xFF == ord(\"q\"):\n",
    "        break\n",
    "\n",
    "cap.release()\n",
    "out.release()\n",
    "cv2.destroyAllWindows()\n"
   ]
  },
  {
   "cell_type": "code",
   "execution_count": null,
   "id": "417ac7c8",
   "metadata": {},
   "outputs": [],
   "source": []
  }
 ],
 "metadata": {
  "kernelspec": {
   "display_name": "yoloproject",
   "language": "python",
   "name": "python3"
  },
  "language_info": {
   "codemirror_mode": {
    "name": "ipython",
    "version": 3
   },
   "file_extension": ".py",
   "mimetype": "text/x-python",
   "name": "python",
   "nbconvert_exporter": "python",
   "pygments_lexer": "ipython3",
   "version": "3.9.7"
  }
 },
 "nbformat": 4,
 "nbformat_minor": 5
}
